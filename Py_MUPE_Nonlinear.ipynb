{
 "cells": [
  {
   "cell_type": "markdown",
   "metadata": {},
   "source": [
    "### Python Implementation of MUPE for General Nonlinear Models"
   ]
  },
  {
   "cell_type": "code",
   "execution_count": 1,
   "metadata": {},
   "outputs": [],
   "source": [
    "# libraries required for MUPE curve fitting\n",
    "import numpy as np\n",
    "from lmfit import Model, Parameters\n",
    "# run \"conda install -c conda-forge lmfit\" to install lmfit\n",
    "\n",
    "# libraries used for demonstration purposes\n",
    "import pandas as pd\n",
    "from numpy.random import default_rng\n",
    "import matplotlib.pyplot as plt"
   ]
  },
  {
   "cell_type": "markdown",
   "metadata": {},
   "source": [
    "General nonlinear instantiation of the Minimum Unbiased Percent Error technique (MUPE) for multiplicative error models, which utilizes Iteratively Re-weighted Least Squares (IRLS) with weights equal to the squared inverse predictions from the prior iteration. Utilizes the MINPACK library implementation of the Levenberg-Marquardt algorithm.\n",
    "<br>Usage Example:  mdict = mupe_nonlinear(func=my_func, y=df['y'], X=df['x'], start=(('a',10), ('b',1)))\n",
    "    - 'func' must be a function you have defined that specifies the model form \n",
    "    (see examples)\n",
    "    - 'y' is the response variable\n",
    "    - 'X' is the driver variable (see example for multivariate case)\n",
    "    - 'start' is a tuple of tuples providing the initial guess, or starting point for optimization. Parameter labels must match those used in 'func'. Whenever possible, provide values of the correct sign and order of magnitude. For \n",
    "    log-linear model forms, use the LOLS or PING solution as the initial guess.\n",
    "Returns a dictionary containing an lmfit.model.ModelResult object and accompanying details."
   ]
  },
  {
   "cell_type": "markdown",
   "metadata": {},
   "source": [
    "#### Define function"
   ]
  },
  {
   "cell_type": "code",
   "execution_count": 2,
   "metadata": {},
   "outputs": [],
   "source": [
    "def mupe_nonlinear(func, y, X, start):\n",
    "    model = Model(func)        # create lmfit model from input function\n",
    "    parameters = Parameters()  # initialize starting guess\n",
    "    for p,v in start:\n",
    "        parameters.add(name=p, value=v)\n",
    "    # initialize prior coefficients\n",
    "    coeffs_prior = np.array(list(parameters.valuesdict().values()))\n",
    "    w = [1]*y.size  # initialize weights\n",
    "    for i in range(200):\n",
    "        # Levenberg-Marquardt optimization\n",
    "        LM = model.fit(y, X=X, params=parameters, weights=w, max_nfev=10)\n",
    "        w = 1/LM.best_fit  # reset weights\n",
    "        # coefficients of current solution\n",
    "        coeffs = np.array(list(LM.best_values.values()))\n",
    "        if np.allclose(coeffs_prior, coeffs): break  # stop if converged\n",
    "        coeffs_prior = coeffs                # reset prior coefficients\n",
    "        parameters = Parameters();  j = 0    # reset starting guess\n",
    "        for p,v in start:\n",
    "            parameters.add(name=p, value=coeffs[j]);  j = j + 1\n",
    "    return {'model':LM, 'start':start, 'mupe_iters':i}"
   ]
  },
  {
   "cell_type": "markdown",
   "metadata": {},
   "source": [
    "#### Generate data to demonstrate equation of the form y = a * x^b"
   ]
  },
  {
   "cell_type": "code",
   "execution_count": 3,
   "metadata": {},
   "outputs": [],
   "source": [
    "rng = default_rng(0);  n = 20;  x = rng.uniform(1000, 8000, n)\n",
    "cv = 0.4;  loc = np.log(1 / np.sqrt(cv**2 + 1))\n",
    "shape = np.sqrt(np.log(1 + cv**2))\n",
    "y = 90 * x**1.3 * rng.lognormal(loc, shape, n)\n",
    "df = pd.DataFrame({'y':y, 'x':x})"
   ]
  },
  {
   "cell_type": "code",
   "execution_count": 4,
   "metadata": {},
   "outputs": [
    {
     "data": {
      "text/plain": [
       "{'model': <lmfit.model.ModelResult at 0x1ff5dbd2648>,\n",
       " 'start': (('a', 10), ('b', 1)),\n",
       " 'mupe_iters': 8}"
      ]
     },
     "execution_count": 4,
     "metadata": {},
     "output_type": "execute_result"
    }
   ],
   "source": [
    "# function must use capital 'X' as its independent variable\n",
    "def func1(X, a, b):\n",
    "    return a * X**b\n",
    "test1 = mupe_nonlinear(func1, y=df['y'], X=df['x'], \n",
    "                       start=(('a',10), ('b',1)))\n",
    "test1"
   ]
  },
  {
   "cell_type": "code",
   "execution_count": 5,
   "metadata": {},
   "outputs": [
    {
     "data": {
      "text/html": [
       "<h2> Model</h2> Model(func1) <h2>Fit Statistics</h2><table><tr><td>fitting method</td><td>leastsq</td><td></td></tr><tr><td># function evals</td><td>3</td><td></td></tr><tr><td># data points</td><td>20</td><td></td></tr><tr><td># variables</td><td>2</td><td></td></tr><tr><td>chi-square</td><td> 1.56365666</td><td></td></tr><tr><td>reduced chi-square</td><td> 0.08686981</td><td></td></tr><tr><td>Akaike info crit.</td><td>-46.9741037</td><td></td></tr><tr><td>Bayesian info crit.</td><td>-44.9826391</td><td></td></tr></table><h2>Variables</h2><table><tr><th> name </th><th> value </th><th> standard error </th><th> relative error </th><th> initial value </th><th> min </th><th> max </th><th> vary </th></tr><tr><td> a </td><td>  165.891015 </td><td>  133.565604 </td><td> (80.51%) </td><td> 165.8910148957903 </td><td>        -inf </td><td>         inf </td><td> True </td></tr><tr><td> b </td><td>  1.22411555 </td><td>  0.09729480 </td><td> (7.95%) </td><td> 1.2241155500226137 </td><td>        -inf </td><td>         inf </td><td> True </td></tr></table><h2>Correlations (unreported correlations are < 0.100)</h2><table><tr><td>a</td><td>b</td><td>-0.9966</td></tr></table>"
      ],
      "text/plain": [
       "<lmfit.model.ModelResult at 0x1ff5dbd2648>"
      ]
     },
     "execution_count": 5,
     "metadata": {},
     "output_type": "execute_result"
    }
   ],
   "source": [
    "test1['model']"
   ]
  },
  {
   "cell_type": "code",
   "execution_count": 6,
   "metadata": {},
   "outputs": [
    {
     "data": {
      "image/png": "[encoded data removed]",
      "text/plain": [
       "<Figure size 360x288 with 1 Axes>"
      ]
     },
     "metadata": {
      "needs_background": "light"
     },
     "output_type": "display_data"
    }
   ],
   "source": [
    "# univariate cases can use the built-in plotting functionality\n",
    "fig1 = plt.figure(figsize=(5,4))\n",
    "_ = test1['model'].plot_fit()"
   ]
  },
  {
   "cell_type": "markdown",
   "metadata": {},
   "source": [
    "#### Generate data to demonstrate multivariate equation of the form y = a * x0^b * x1^c"
   ]
  },
  {
   "cell_type": "code",
   "execution_count": 7,
   "metadata": {},
   "outputs": [],
   "source": [
    "rng = default_rng(0);  n = 40\n",
    "x0 = rng.uniform(20, 90, n);  x1 = rng.uniform(3, 15, n)\n",
    "y = 11 * x0**0.7 * x1**1.15 * rng.normal(1, 0.25, n)\n",
    "df = pd.DataFrame({'y':y, 'x0':x0, 'x1':x1})"
   ]
  },
  {
   "cell_type": "code",
   "execution_count": 8,
   "metadata": {},
   "outputs": [
    {
     "data": {
      "text/plain": [
       "{'model': <lmfit.model.ModelResult at 0x1ff5f793f08>,\n",
       " 'start': (('a', 1), ('b', 1), ('c', 1)),\n",
       " 'mupe_iters': 4}"
      ]
     },
     "execution_count": 8,
     "metadata": {},
     "output_type": "execute_result"
    }
   ],
   "source": [
    "# function must use capital 'X' as its independent variable\n",
    "def func2(X, a, b, c):\n",
    "    x0 = X.iloc[:,0]\n",
    "    x1 = X.iloc[:,1]\n",
    "    return a * x0**b * x1**c\n",
    "test2 = mupe_nonlinear(func2, y=df['y'], X=df[['x0','x1']], \n",
    "                       start=(('a',1), ('b',1), ('c',1)))\n",
    "test2"
   ]
  },
  {
   "cell_type": "code",
   "execution_count": 9,
   "metadata": {},
   "outputs": [
    {
     "data": {
      "text/html": [
       "<h2> Model</h2> Model(func2) <h2>Fit Statistics</h2><table><tr><td>fitting method</td><td>leastsq</td><td></td></tr><tr><td># function evals</td><td>5</td><td></td></tr><tr><td># data points</td><td>40</td><td></td></tr><tr><td># variables</td><td>3</td><td></td></tr><tr><td>chi-square</td><td> 2.26264333</td><td></td></tr><tr><td>reduced chi-square</td><td> 0.06115252</td><td></td></tr><tr><td>Akaike info crit.</td><td>-108.893828</td><td></td></tr><tr><td>Bayesian info crit.</td><td>-103.827190</td><td></td></tr></table><h2>Variables</h2><table><tr><th> name </th><th> value </th><th> standard error </th><th> relative error </th><th> initial value </th><th> min </th><th> max </th><th> vary </th></tr><tr><td> a </td><td>  12.8998140 </td><td>  4.60555840 </td><td> (35.70%) </td><td> 12.899935047451008 </td><td>        -inf </td><td>         inf </td><td> True </td></tr><tr><td> b </td><td>  0.69322627 </td><td>  0.09558779 </td><td> (13.79%) </td><td> 0.6932256375022531 </td><td>        -inf </td><td>         inf </td><td> True </td></tr><tr><td> c </td><td>  1.08728852 </td><td>  0.10198774 </td><td> (9.38%) </td><td> 1.0872851960718881 </td><td>        -inf </td><td>         inf </td><td> True </td></tr></table><h2>Correlations (unreported correlations are < 0.100)</h2><table><tr><td>a</td><td>b</td><td>-0.8264</td></tr><tr><td>b</td><td>c</td><td>-0.3925</td></tr><tr><td>a</td><td>c</td><td>-0.1837</td></tr></table>"
      ],
      "text/plain": [
       "<lmfit.model.ModelResult at 0x1ff5f793f08>"
      ]
     },
     "execution_count": 9,
     "metadata": {},
     "output_type": "execute_result"
    }
   ],
   "source": [
    "test2['model']"
   ]
  },
  {
   "cell_type": "code",
   "execution_count": 10,
   "metadata": {},
   "outputs": [
    {
     "data": {
      "image/png": "[encoded data removed]",
      "text/plain": [
       "<Figure size 288x288 with 1 Axes>"
      ]
     },
     "metadata": {
      "needs_background": "light"
     },
     "output_type": "display_data"
    }
   ],
   "source": [
    "fig2 = plt.figure(figsize=(4,4))\n",
    "ax2 = fig2.add_subplot()\n",
    "plt.scatter(df['y'], test2['model'].best_fit)\n",
    "plt.xlim(0, 8000);  plt.ylim(0, 8000)\n",
    "x_line = np.linspace(0, 8000, 100)\n",
    "_ = plt.plot(x_line, x_line, color='orange')\n",
    "_ = ax2.set_ylabel('Fitted Values', fontsize='large')\n",
    "_ = ax2.set_xlabel('Actual Values', fontsize='large')"
   ]
  }
 ],
 "metadata": {
  "kernelspec": {
   "display_name": "Python 3",
   "language": "python",
   "name": "python3"
  },
  "language_info": {
   "codemirror_mode": {
    "name": "ipython",
    "version": 3
   },
   "file_extension": ".py",
   "mimetype": "text/x-python",
   "name": "python",
   "nbconvert_exporter": "python",
   "pygments_lexer": "ipython3",
   "version": "3.7.6"
  }
 },
 "nbformat": 4,
 "nbformat_minor": 4
}
